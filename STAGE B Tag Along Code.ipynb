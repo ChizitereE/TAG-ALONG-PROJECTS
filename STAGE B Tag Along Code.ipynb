{
 "cells": [
  {
   "cell_type": "code",
   "execution_count": 1,
   "id": "faaf1515",
   "metadata": {},
   "outputs": [],
   "source": [
    "import pandas as pd"
   ]
  },
  {
   "cell_type": "code",
   "execution_count": 6,
   "id": "3fff017a",
   "metadata": {},
   "outputs": [],
   "source": [
    "df=pd.read_csv('C:/Users/user/Downloads/energydata_complete.csv')"
   ]
  },
  {
   "cell_type": "code",
   "execution_count": 7,
   "id": "d007af12",
   "metadata": {},
   "outputs": [],
   "source": [
    "# rename columns\n",
    "colume_name={'T1':'Temperature in kitchen area ',\n",
    "\n",
    "'RH_1':'Humidity in kitchen area' ,\n",
    "\n",
    "'T2': 'Temperature in living room area', \n",
    "\n",
    "'RH_2': 'Humidity in living room area',\n",
    "\n",
    "'T3': 'Temperature in laundry room area',\n",
    "\n",
    "'RH_3':'Humidity in laundry room area',\n",
    "\n",
    "'T4': 'Temperature in office room',\n",
    "\n",
    "'RH_4': 'Humidity in office room',\n",
    "\n",
    "'T5': 'Temperature in bathroom',\n",
    "\n",
    "'RH_5': 'Humidity in bathroom', \n",
    "\n",
    "'T6': 'Temperature outside the building (north side)',\n",
    "\n",
    "'RH_6': 'Humidity outside the building (north side)', \n",
    "\n",
    "'T7': 'Temperature in ironing room' , \n",
    "\n",
    "'RH_7': 'Humidity in ironing room', \n",
    "\n",
    "'T8': 'Temperature in teenager room 2, in Celsius',\n",
    "\n",
    "'RH_8': 'Humidity in teenager room 2, in %',\n",
    "\n",
    "'T9': 'Temperature in parents room, in Celsius',\n",
    "\n",
    "'RH_9': 'Humidity in parents room, in %',\n",
    "\n",
    "'To': 'Temperature outside (from Chievres weather station), in Celsius',\n",
    "\n",
    "'RH_out': 'Humidity outside (from Chievres weather station), in %',\n",
    "\n",
    "'rv1': 'Random variable 1, nondimensional',\n",
    "\n",
    "'rv2': 'Random variable 2, nondimensional'}"
   ]
  },
  {
   "cell_type": "code",
   "execution_count": 8,
   "id": "d543e3be",
   "metadata": {},
   "outputs": [],
   "source": [
    "df=df.rename(columns=colume_name)"
   ]
  },
  {
   "cell_type": "code",
   "execution_count": 9,
   "id": "6f9fac76",
   "metadata": {},
   "outputs": [],
   "source": [
    "#select a sample of the data set\n",
    "simple_linear_reg_df = df[['Temperature outside the building (north side)', 'Temperature in living room area']]. sample(15, random_state=2)"
   ]
  },
  {
   "cell_type": "code",
   "execution_count": 10,
   "id": "fdfa7b73",
   "metadata": {},
   "outputs": [],
   "source": [
    "import seaborn as sns"
   ]
  },
  {
   "cell_type": "code",
   "execution_count": 11,
   "id": "9d31855c",
   "metadata": {},
   "outputs": [
    {
     "data": {
      "text/plain": [
       "<AxesSubplot:xlabel='Temperature in living room area', ylabel='Temperature outside the building (north side)'>"
      ]
     },
     "execution_count": 11,
     "metadata": {},
     "output_type": "execute_result"
    },
    {
     "data": {
      "image/png": "[encoded data removed]",
      "text/plain": [
       "<Figure size 432x288 with 1 Axes>"
      ]
     },
     "metadata": {
      "needs_background": "light"
     },
     "output_type": "display_data"
    }
   ],
   "source": [
    "#regression plot\n",
    "sns.regplot(x=\"Temperature in living room area\", y=\"Temperature outside the building (north side)\", data= simple_linear_reg_df)"
   ]
  },
  {
   "cell_type": "code",
   "execution_count": 27,
   "id": "6613cd0e",
   "metadata": {},
   "outputs": [],
   "source": [
    "#normalizing dataset to common scale using min max scaler\n",
    "\n",
    "from sklearn.preprocessing import MinMaxScaler\n",
    "scaler = MinMaxScaler()\n",
    "normalised_df = pd.DataFrame(scaler.fit_transform(df), columns=df.columns)\n",
    "features_df = normalised_df.drop(columns=['Temperature in living room area', 'Temperature outside the building (north side)'])\n",
    "heating_target = normalised_df['Temperature outside the building (north side)']"
   ]
  },
  {
   "cell_type": "code",
   "execution_count": 28,
   "id": "5e1057e4",
   "metadata": {},
   "outputs": [],
   "source": [
    "from sklearn.model_selection import train_test_split\n",
    "x_train, x_test, y_train, y_test = train_test_split(features_df, heating_target,\n",
    "test_size=0.3, random_state=1)"
   ]
  },
  {
   "cell_type": "code",
   "execution_count": 29,
   "id": "e3cae27e",
   "metadata": {},
   "outputs": [],
   "source": [
    "from sklearn.linear_model import LinearRegression"
   ]
  },
  {
   "cell_type": "code",
   "execution_count": 34,
   "id": "e4d19bf0",
   "metadata": {},
   "outputs": [
    {
     "data": {
      "text/plain": [
       "0.024"
      ]
     },
     "execution_count": 34,
     "metadata": {},
     "output_type": "execute_result"
    }
   ],
   "source": [
    "#fitting model to the training dataset\n",
    "linear_model.fit(x_train, y_train)\n",
    "#obtain predictions\n",
    "predicted_values = linear_model.predict(x_test)\n",
    "#MAE\n",
    "from sklearn.metrics import mean_absolute_error\n",
    "mae = mean_absolute_error(y_test, predicted_values)\n",
    "round(mae, 3)"
   ]
  },
  {
   "cell_type": "code",
   "execution_count": 33,
   "id": "177f8d29",
   "metadata": {},
   "outputs": [],
   "source": [
    "linear_model=LinearRegression()"
   ]
  },
  {
   "cell_type": "code",
   "execution_count": 35,
   "id": "2cf07dc1",
   "metadata": {},
   "outputs": [
    {
     "data": {
      "text/plain": [
       "5.874"
      ]
     },
     "execution_count": 35,
     "metadata": {},
     "output_type": "execute_result"
    }
   ],
   "source": [
    "import numpy as np\n",
    "rss = np.sum(np.square(y_test - predicted_values))\n",
    "round(rss, 3) "
   ]
  },
  {
   "cell_type": "code",
   "execution_count": 36,
   "id": "93ebdf1d",
   "metadata": {},
   "outputs": [
    {
     "data": {
      "text/plain": [
       "0.031"
      ]
     },
     "execution_count": 36,
     "metadata": {},
     "output_type": "execute_result"
    }
   ],
   "source": [
    "from sklearn.metrics import mean_squared_error\n",
    "rmse = np.sqrt(mean_squared_error(y_test, predicted_values))\n",
    "round(rmse, 3) "
   ]
  },
  {
   "cell_type": "code",
   "execution_count": 37,
   "id": "67e5ad5c",
   "metadata": {},
   "outputs": [
    {
     "data": {
      "text/plain": [
       "0.968"
      ]
     },
     "execution_count": 37,
     "metadata": {},
     "output_type": "execute_result"
    }
   ],
   "source": [
    "from sklearn.metrics import r2_score\n",
    "r2_score = r2_score(y_test, predicted_values)\n",
    "round(r2_score, 3) "
   ]
  },
  {
   "cell_type": "code",
   "execution_count": 38,
   "id": "27d5731b",
   "metadata": {},
   "outputs": [
    {
     "data": {
      "text/plain": [
       "Ridge(alpha=0.5)"
      ]
     },
     "execution_count": 38,
     "metadata": {},
     "output_type": "execute_result"
    }
   ],
   "source": [
    "from sklearn.linear_model import Ridge\n",
    "ridge_reg = Ridge(alpha=0.5)\n",
    "ridge_reg.fit(x_train, y_train)"
   ]
  },
  {
   "cell_type": "code",
   "execution_count": 39,
   "id": "76151e16",
   "metadata": {},
   "outputs": [
    {
     "data": {
      "text/plain": [
       "Lasso(alpha=0.001)"
      ]
     },
     "execution_count": 39,
     "metadata": {},
     "output_type": "execute_result"
    }
   ],
   "source": [
    "from sklearn.linear_model import Lasso\n",
    "lasso_reg = Lasso(alpha=0.001)\n",
    "lasso_reg.fit(x_train, y_train)"
   ]
  },
  {
   "cell_type": "code",
   "execution_count": 40,
   "id": "d44bec49",
   "metadata": {},
   "outputs": [],
   "source": [
    "#comparing the effects of regularisation\n",
    "def get_weights_df(model, feat, col_name):\n",
    "#this function returns the weight of every feature\n",
    "    weights = pd.Series(model.columns, feat.columns).sort_values()\n",
    "    weights_df = pd.DataFrame(weights).reset_index()\n",
    "    weights_df.columns = ['Features', col_name]\n",
    "    weights_df[col_name].round(3)\n",
    "    return weights_df\n"
   ]
  },
  {
   "cell_type": "code",
   "execution_count": 43,
   "id": "50bca77f",
   "metadata": {},
   "outputs": [
    {
     "ename": "AttributeError",
     "evalue": "'LinearRegression' object has no attribute 'columns'",
     "output_type": "error",
     "traceback": [
      "\u001b[1;31m---------------------------------------------------------------------------\u001b[0m",
      "\u001b[1;31mAttributeError\u001b[0m                            Traceback (most recent call last)",
      "Input \u001b[1;32mIn [43]\u001b[0m, in \u001b[0;36m<cell line: 1>\u001b[1;34m()\u001b[0m\n\u001b[1;32m----> 1\u001b[0m linear_model_weights \u001b[38;5;241m=\u001b[39m \u001b[43mget_weights_df\u001b[49m\u001b[43m(\u001b[49m\u001b[43mmodel\u001b[49m\u001b[43m,\u001b[49m\u001b[43m \u001b[49m\u001b[43mx_train\u001b[49m\u001b[43m,\u001b[49m\u001b[43m \u001b[49m\u001b[38;5;124;43m'\u001b[39;49m\u001b[38;5;124;43mLinear_Model_Weight\u001b[39;49m\u001b[38;5;124;43m'\u001b[39;49m\u001b[43m)\u001b[49m\n\u001b[0;32m      2\u001b[0m ridge_weights_df \u001b[38;5;241m=\u001b[39m get_weights_df(ridge_reg, x_train, \u001b[38;5;124m'\u001b[39m\u001b[38;5;124mRidge_Weight\u001b[39m\u001b[38;5;124m'\u001b[39m)\n\u001b[0;32m      3\u001b[0m lasso_weights_df \u001b[38;5;241m=\u001b[39m get_weights_df(lasso_reg, x_train, \u001b[38;5;124m'\u001b[39m\u001b[38;5;124mLasso_weight\u001b[39m\u001b[38;5;124m'\u001b[39m)\n",
      "Input \u001b[1;32mIn [40]\u001b[0m, in \u001b[0;36mget_weights_df\u001b[1;34m(model, feat, col_name)\u001b[0m\n\u001b[0;32m      2\u001b[0m \u001b[38;5;28;01mdef\u001b[39;00m \u001b[38;5;21mget_weights_df\u001b[39m(model, feat, col_name):\n\u001b[0;32m      3\u001b[0m \u001b[38;5;66;03m#this function returns the weight of every feature\u001b[39;00m\n\u001b[1;32m----> 4\u001b[0m     weights \u001b[38;5;241m=\u001b[39m pd\u001b[38;5;241m.\u001b[39mSeries(\u001b[43mmodel\u001b[49m\u001b[38;5;241;43m.\u001b[39;49m\u001b[43mcolumns\u001b[49m, feat\u001b[38;5;241m.\u001b[39mcolumns)\u001b[38;5;241m.\u001b[39msort_values()\n\u001b[0;32m      5\u001b[0m     weights_df \u001b[38;5;241m=\u001b[39m pd\u001b[38;5;241m.\u001b[39mDataFrame(weights)\u001b[38;5;241m.\u001b[39mreset_index()\n\u001b[0;32m      6\u001b[0m     weights_df\u001b[38;5;241m.\u001b[39mcolumns \u001b[38;5;241m=\u001b[39m [\u001b[38;5;124m'\u001b[39m\u001b[38;5;124mFeatures\u001b[39m\u001b[38;5;124m'\u001b[39m, col_name]\n",
      "\u001b[1;31mAttributeError\u001b[0m: 'LinearRegression' object has no attribute 'columns'"
     ]
    }
   ],
   "source": [
    "linear_model_weights = get_weights_df(model, x_train, 'Linear_Model_Weight')\n",
    "ridge_weights_df = get_weights_df(ridge_reg, x_train, 'Ridge_Weight')\n",
    "lasso_weights_df = get_weights_df(lasso_reg, x_train, 'Lasso_weight')\n"
   ]
  },
  {
   "cell_type": "code",
   "execution_count": 42,
   "id": "42d31dfc",
   "metadata": {},
   "outputs": [],
   "source": [
    "model=linear_model"
   ]
  },
  {
   "cell_type": "code",
   "execution_count": null,
   "id": "1fa364b1",
   "metadata": {},
   "outputs": [],
   "source": []
  }
 ],
 "metadata": {
  "kernelspec": {
   "display_name": "Python 3 (ipykernel)",
   "language": "python",
   "name": "python3"
  },
  "language_info": {
   "codemirror_mode": {
    "name": "ipython",
    "version": 3
   },
   "file_extension": ".py",
   "mimetype": "text/x-python",
   "name": "python",
   "nbconvert_exporter": "python",
   "pygments_lexer": "ipython3",
   "version": "3.9.12"
  }
 },
 "nbformat": 4,
 "nbformat_minor": 5
}
